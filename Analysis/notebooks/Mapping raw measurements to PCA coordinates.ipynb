{
 "cells": [
  {
   "cell_type": "markdown",
   "metadata": {},
   "source": [
    "### Setup\n",
    "\n",
    "* Measurements $(x_i,y_i,z_i)$ for $i=1:m$ where $m$ is the number of microphones. For some of the microphone there might not be measurements, which we indicate by $x_i=y_1=z_i=?$\n",
    "* Redundancy: $x_i^2+y_i^2+z_i^2 = 1$ thus there are only two degrees of freedom. A simple reduction to two is $ x \\to x/z$, $y \\to y/z$\n",
    "* Over-determined system: We choose $d=2,3,4$ the number of PCA coordinates to use. \n",
    "\n",
    "We want to solve for two sets of variables: the coefficients in front of the $d$ vectors, and the values corresponding to unknown entries in $x$. Assuming we reduced from 3 to 2 coordintes per array, lets indicate the missing coordinates by $u_i,v_i$ and indicate the combined vector by $\\vec{U} = \\{(x_1,y_1),\\ldots,(x_k,y_k),(u_{k+1},v_{k+1}),\\ldots,(u_m,v_m)\\}$\n",
    "\n",
    "We want an affine transformation which can be described by a matrix and a shift vector.\n",
    "\n",
    "$$\\vec{r} = \\vec{s} + M \\vec{U}$$\n",
    "\n",
    "Here $M$ and $\\vec{v}$ are known. The unknowns are the last $m-k$ coordinates of $U$ and the vector $\\vec{r}$\n",
    "\n",
    "### Solving\n",
    "As this system is not linear, we can't solve in a single step, instead, we solve using two-step iterations.\n",
    "\n",
    "0. **init** set the unknown coordinates $(u_i,v_i)$ to their mean value.\n",
    "1. **update $\\vec{r}$** using the fully defined $\\vec{U}$\n",
    "2. **update unknown measurements** update the unknown coordinates of $\\vec{U}$ according to the current value of $\\vec{R}.\n",
    "\n",
    "Steps 1,2 are repeated until convergence to some tolerance $\\epsilon$.\n"
   ]
  },
  {
   "cell_type": "markdown",
   "metadata": {},
   "source": [
    "### SVDImpute\n",
    "\n",
    "SVDImpute is a method for learning the matrix $M$ from a large set of vectors $\\bf{U}$, which contains measurement vector where some of the coordinates might be missing.\n",
    "Here we iteration between:\n",
    "\n",
    "1. Estimating $\\vec{s}$ and $\\vec{M}$\n",
    "2. Estimating $\\vec{r}$ and the unknown components of the vectors in $\\vec{U}$"
   ]
  },
  {
   "cell_type": "code",
   "execution_count": null,
   "metadata": {},
   "outputs": [],
   "source": []
  }
 ],
 "metadata": {
  "kernelspec": {
   "display_name": "Python 3",
   "language": "python",
   "name": "python3"
  },
  "language_info": {
   "codemirror_mode": {
    "name": "ipython",
    "version": 3
   },
   "file_extension": ".py",
   "mimetype": "text/x-python",
   "name": "python",
   "nbconvert_exporter": "python",
   "pygments_lexer": "ipython3",
   "version": "3.8.3"
  },
  "toc": {
   "base_numbering": 1,
   "nav_menu": {},
   "number_sections": true,
   "sideBar": true,
   "skip_h1_title": false,
   "title_cell": "Table of Contents",
   "title_sidebar": "Contents",
   "toc_cell": false,
   "toc_position": {},
   "toc_section_display": true,
   "toc_window_display": false
  }
 },
 "nbformat": 4,
 "nbformat_minor": 4
}
