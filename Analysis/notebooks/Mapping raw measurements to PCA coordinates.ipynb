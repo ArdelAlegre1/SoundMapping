{
 "cells": [
  {
   "cell_type": "markdown",
   "metadata": {},
   "source": [
    "### Current solution"
   ]
  },
  {
   "cell_type": "markdown",
   "metadata": {},
   "source": [
    "* Measurements $(x_i,y_i,z_i)$ for $i=1:m$ where $m$ is the number of arrays.\n",
    "* $M$ is the d top eigenvectors from PCA\n",
    "* $s$ is the shift vector that is 3m dimensional. Mean of the measurements across time.\n",
    "\n",
    "$$\\vec{r} = M (\\vec{U} - \\vec{s})$$\n",
    "\n",
    "* Some coordinates of U are ?. We plug in the mean $s$\n",
    "\n",
    "* Suppose we have a source that does not move, but some of arrays do not detect some of the time. For detecting arrays we have the measured values (x, y and z) and for the rest, we have the mean imputed in the place of (x, y and z).\n",
    "\n",
    "* Imputed values are not good enough.\n",
    "\n",
    "* Two sets of unknowns: $\\vec{r}$ and the unkown coordinates of $\\vec{U}$\n",
    "\n",
    "* Set unknowns to be the imputed value to obtain $\\vec{r}$. \n",
    "* Then, keeping $\\vec{r}$ fixed, we want to find the missing values of $\\vec{U}$.\n",
    "\n",
    "* After we have an estimate for $\\vec{r}$, we want to find the unknown coordinates of $\\vec{U}$. that would give you this $\\vec{r}$. (Many solutions). We use sum of the squares of the unknown coordinates of U as a regularizer.\n",
    "\n",
    "How different is r from the current gu\n",
    "Say we have already subtracted s.  \n",
    "\n",
    "$\\vec{V} = \\vec{U} - \\vec{s}$\n",
    "\n",
    "\n",
    "\n",
    "$\\|\\vec{r} - M \\vec{V}\\|_{2}^{2} + \\|V\\|_{2}^{2}$  \n",
    "\n"
   ]
  },
  {
   "cell_type": "markdown",
   "metadata": {},
   "source": [
    "* Least mean squared / Ridge regression / Quadratic minimization problem"
   ]
  },
  {
   "cell_type": "markdown",
   "metadata": {},
   "source": [
    "### Setup\n",
    "\n",
    "* Measurements $(x_i,y_i,z_i)$ for $i=1:m$ where $m$ is the number of microphones. For some of the microphone there might not be measurements, which we indicate by $x_i=y_1=z_i=?$\n",
    "* Redundancy: $x_i^2+y_i^2+z_i^2 = 1$ thus there are only two degrees of freedom. A simple reduction to two is $ x \\to x/z$, $y \\to y/z$\n",
    "* Over-determined system: We choose $d=2,3,4$ the number of PCA coordinates to use. \n",
    "\n",
    "We want to solve for two sets of variables: the coefficients in front of the $d$ vectors, and the values corresponding to unknown entries in $x$. Assuming we reduced from 3 to 2 coordintes per array, lets indicate the missing coordinates by $u_i,v_i$ and indicate the combined vector by $\\vec{U} = \\{(x_1,y_1),\\ldots,(x_k,y_k),(u_{k+1},v_{k+1}),\\ldots,(u_m,v_m)\\}$\n",
    "\n",
    "We want an affine transformation which can be described by a matrix and a shift vector.\n",
    "\n",
    "$$\\vec{r} = \\vec{s} + M \\vec{U}$$\n",
    "\n",
    "Here $M$ and $\\vec{s}$ are known. The unknowns are the last $m-k$ coordinates of $U$ and the vector $\\vec{r}$\n",
    "\n",
    "### Solving\n",
    "As this system is not linear, we can't solve in a single step, instead, we solve using two-step iterations.\n",
    "\n",
    "0. **init** set the unknown coordinates $(u_i,v_i)$ to their mean value.\n",
    "1. **update $\\vec{r}$** using the fully defined $\\vec{U}$\n",
    "2. **update unknown measurements** update the unknown coordinates of $\\vec{U}$ according to the current value of $\\vec{R}.\n",
    "\n",
    "Steps 1,2 are repeated until convergence to some tolerance $\\epsilon$.\n"
   ]
  },
  {
   "cell_type": "markdown",
   "metadata": {},
   "source": [
    "U: 12 D vector with x and y.\n",
    "M: d x 12\n",
    "s: mean of vectors in PCA space\n",
    "r: "
   ]
  },
  {
   "cell_type": "markdown",
   "metadata": {},
   "source": [
    "U is 12x1.\n",
    "So M should have 12 columns and 2 (d) rows.\n"
   ]
  },
  {
   "cell_type": "code",
   "execution_count": 1,
   "metadata": {},
   "outputs": [],
   "source": [
    "import numpy as np\n",
    "import pickle\n",
    "import sys\n",
    "from numpy import linalg as LA\n",
    "from sklearn.cluster import KMeans\n",
    "sys.path.append('/home/ardelalegre/SoundMapping/Analysis/Util')\n",
    "from get_time_interval_matrix_data import get_time_interval_matrix_data\n",
    "from PCA import get_cdata\n",
    "from PCA import get_eigen_vectors\n",
    "from PCA import project_to_eigen_vectors\n",
    "from Plot import plot_data\n",
    "import matplotlib.pyplot as plt"
   ]
  },
  {
   "cell_type": "code",
   "execution_count": 2,
   "metadata": {},
   "outputs": [],
   "source": [
    "training_data = get_time_interval_matrix_data('Sep 29 2020 11:00AM', 'Sep 30 2020 05:00PM')"
   ]
  },
  {
   "cell_type": "code",
   "execution_count": null,
   "metadata": {},
   "outputs": [],
   "source": [
    "+"
   ]
  },
  {
   "cell_type": "code",
   "execution_count": 3,
   "metadata": {},
   "outputs": [],
   "source": [
    "data = training_data[:,1:]"
   ]
  },
  {
   "cell_type": "code",
   "execution_count": 39,
   "metadata": {},
   "outputs": [
    {
     "data": {
      "text/plain": [
       "nan"
      ]
     },
     "execution_count": 39,
     "metadata": {},
     "output_type": "execute_result"
    }
   ],
   "source": [
    "data[0,0]"
   ]
  },
  {
   "cell_type": "markdown",
   "metadata": {},
   "source": [
    "### Removing redundancies is not easy. In this notebook, we proceed without doing it."
   ]
  },
  {
   "cell_type": "code",
   "execution_count": 40,
   "metadata": {},
   "outputs": [
    {
     "name": "stderr",
     "output_type": "stream",
     "text": [
      "/home/ardelalegre/.local/lib/python3.5/site-packages/ipykernel_launcher.py:1: RuntimeWarning: Mean of empty slice\n",
      "  \"\"\"Entry point for launching an IPython kernel.\n"
     ]
    }
   ],
   "source": [
    "data_mean = np.nanmean(data,axis = 0,keepdims = True)\n",
    "\n",
    "tmp = data - data_mean\n",
    "\n",
    "cdata=np.nan_to_num(tmp)\n",
    "\n",
    "dimensions = cdata.shape[1]\n",
    "n=cdata.shape[0]\n",
    "block_size=10000\n",
    "\n",
    "# calculate covariance matrix\n",
    "outters = np.zeros((dimensions, dimensions))\n",
    "for j in range(n):\n",
    "    outters += np.outer(cdata[j,:], cdata[j,:])\n",
    "\n",
    "_cov = outters/n\n",
    "\n",
    "#eigen values\n",
    "eigen_values, eigen_vectors = LA.eig(_cov)"
   ]
  },
  {
   "cell_type": "markdown",
   "metadata": {},
   "source": [
    "### Aug 19 eigvecs"
   ]
  },
  {
   "cell_type": "code",
   "execution_count": 42,
   "metadata": {},
   "outputs": [],
   "source": [
    "data_0819 = pickle.load(open('/home/ardelalegre/CSE4223-ODAS/preprocessing/python/aug 19/exp_08_19_better_data.p', 'rb'))\n",
    "ind = [18]+[i for i in range(18)]\n",
    "data_0819=data_0819[:,ind] \n",
    "cdata_0819 = get_cdata(data_0819)\n",
    "eigen_values_0819, eigen_vectors_0819 = get_eigen_vectors(data_0819) "
   ]
  },
  {
   "cell_type": "markdown",
   "metadata": {},
   "source": [
    "1. Get EigVecs corresponding to largest Eigenvalues (18 D vectors)"
   ]
  },
  {
   "cell_type": "code",
   "execution_count": 43,
   "metadata": {},
   "outputs": [],
   "source": [
    "eig_val_sorted_indices = np.argsort(eigen_values)\n",
    "eig_val_sorted_indices = eig_val_sorted_indices[-1::-1]\n",
    "sorted_eigvec = eigen_vectors[:,eig_val_sorted_indices]"
   ]
  },
  {
   "cell_type": "code",
   "execution_count": 44,
   "metadata": {},
   "outputs": [
    {
     "data": {
      "text/plain": [
       "(18, 18)"
      ]
     },
     "execution_count": 44,
     "metadata": {},
     "output_type": "execute_result"
    }
   ],
   "source": [
    "sorted_eigvec.shape"
   ]
  },
  {
   "cell_type": "code",
   "execution_count": 49,
   "metadata": {},
   "outputs": [],
   "source": [
    "first_two_eig_vecs = sorted_eigvec[:2,:]"
   ]
  },
  {
   "cell_type": "code",
   "execution_count": 50,
   "metadata": {},
   "outputs": [
    {
     "data": {
      "text/plain": [
       "array([[ 0.0440695 , -0.12640601, -0.06115034, -0.04309325,  0.06564219,\n",
       "        -0.01143408,  0.06461866,  0.06313246,  0.00161783, -0.47736868,\n",
       "         0.05929697,  0.01161443, -0.1473491 , -0.13689741,  0.83180222,\n",
       "         0.        ,  0.        ,  0.        ],\n",
       "       [ 0.18387933,  0.19523205,  0.34953642,  0.48597118, -0.11975702,\n",
       "         0.07844055, -0.17280307, -0.1894296 ,  0.07939067,  0.53058225,\n",
       "        -0.11940499, -0.01470404, -0.00466373, -0.15745007,  0.39545361,\n",
       "         0.        ,  0.        ,  0.        ]])"
      ]
     },
     "execution_count": 50,
     "metadata": {},
     "output_type": "execute_result"
    }
   ],
   "source": [
    "first_two_eig_vecs"
   ]
  },
  {
   "cell_type": "code",
   "execution_count": 53,
   "metadata": {},
   "outputs": [
    {
     "name": "stdout",
     "output_type": "stream",
     "text": [
      "(2, 18) : shape of M\n"
     ]
    }
   ],
   "source": [
    "M = first_two_eig_vecs\n",
    "print(M.shape, \": shape of M\")"
   ]
  },
  {
   "cell_type": "code",
   "execution_count": null,
   "metadata": {},
   "outputs": [],
   "source": []
  },
  {
   "cell_type": "markdown",
   "metadata": {},
   "source": [
    "### SVDImpute\n",
    "\n",
    "SVDImpute is a method for learning the matrix $M$ from a large set of vectors $\\bf{U}$, which contains measurement vector where some of the coordinates might be missing.\n",
    "Here we iteration between:\n",
    "\n",
    "1. Estimating $\\vec{s}$ and $\\vec{M}$\n",
    "2. Estimating $\\vec{r}$ and the unknown components of the vectors in $\\vec{U}$"
   ]
  },
  {
   "cell_type": "code",
   "execution_count": null,
   "metadata": {},
   "outputs": [],
   "source": []
  },
  {
   "cell_type": "code",
   "execution_count": null,
   "metadata": {},
   "outputs": [],
   "source": []
  }
 ],
 "metadata": {
  "kernelspec": {
   "display_name": "Python 3",
   "language": "python",
   "name": "python3"
  },
  "language_info": {
   "codemirror_mode": {
    "name": "ipython",
    "version": 3
   },
   "file_extension": ".py",
   "mimetype": "text/x-python",
   "name": "python",
   "nbconvert_exporter": "python",
   "pygments_lexer": "ipython3",
   "version": "3.5.2"
  },
  "toc": {
   "base_numbering": 1,
   "nav_menu": {},
   "number_sections": true,
   "sideBar": true,
   "skip_h1_title": false,
   "title_cell": "Table of Contents",
   "title_sidebar": "Contents",
   "toc_cell": false,
   "toc_position": {},
   "toc_section_display": true,
   "toc_window_display": false
  }
 },
 "nbformat": 4,
 "nbformat_minor": 4
}
