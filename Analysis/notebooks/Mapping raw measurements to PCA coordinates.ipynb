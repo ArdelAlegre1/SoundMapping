{
 "cells": [
  {
   "cell_type": "markdown",
   "metadata": {},
   "source": [
    "### Setup\n",
    "\n",
    "* Measurements $(x_i,y_i,z_i)$ for $i=1:m$ where $m$ is the number of microphones. For some of the microphone there might not be measurements, which we indicate by $x_i=y_1=z_i=?$\n",
    "* Redundancy: $x_i^2+y_i^2+z_i^2 = 1$ thus there are only two degrees of freedom. A simple reduction to two is $ x \\to x/z$, $y \\to y/z$\n",
    "* Over-determined system: We choose $d=2,3,4$ the number of PCA coordinates to use. \n",
    "\n",
    "We want to solve for two sets of variables: the coefficients in front of the $d$ vectors, and the values corresponding to unknown entries in $x$. Assuming we reduced from 3 to 2 coordintes per array, lets indicate the missing coordinates by $u_i,v_i$ and indicate the combined vector by $\\vec{U} = \\{(x_1,y_1),\\ldots,(x_k,y_k),(u_{k+1},v_{k+1}),\\ldots,(u_m,v_m)\\}$\n",
    "\n",
    "We want an affine transformation which can be described by a matrix and a shift vector.\n",
    "\n",
    "$$\\vec{r} = \\vec{s} + M \\vec{U}$$\n",
    "\n",
    "Here $M$ and $\\vec{s}$ are known. The unknowns are the last $m-k$ coordinates of $U$ and the vector $\\vec{r}$\n",
    "\n",
    "### Solving\n",
    "As this system is not linear, we can't solve in a single step, instead, we solve using two-step iterations.\n",
    "\n",
    "0. **init** set the unknown coordinates $(u_i,v_i)$ to their mean value.\n",
    "1. **update $\\vec{r}$** using the fully defined $\\vec{U}$\n",
    "2. **update unknown measurements** update the unknown coordinates of $\\vec{U}$ according to the current value of $\\vec{R}.\n",
    "\n",
    "Steps 1,2 are repeated until convergence to some tolerance $\\epsilon$.\n"
   ]
  },
  {
   "cell_type": "code",
   "execution_count": 21,
   "metadata": {},
   "outputs": [
    {
     "name": "stdout",
     "output_type": "stream",
     "text": [
      "Populating the interactive namespace from numpy and matplotlib\n"
     ]
    }
   ],
   "source": [
    "import pickle\n",
    "import sys\n",
    "from numpy import linalg as LA\n",
    "from sklearn.cluster import KMeans\n",
    "sys.path.append('/home/ardelalegre/SoundMapping/Analysis/Util')\n",
    "from get_time_interval_matrix_data import get_time_interval_matrix_data\n",
    "from PCA import get_cdata\n",
    "from PCA import get_eigen_vectors\n",
    "from PCA import project_to_eigen_vectors\n",
    "from Plot import plot_data\n",
    "import matplotlib.pyplot as plt\n",
    "%pylab inline"
   ]
  },
  {
   "cell_type": "code",
   "execution_count": 2,
   "metadata": {},
   "outputs": [],
   "source": [
    "training_data = get_time_interval_matrix_data('Sep 29 2020 11:00AM', 'Sep 30 2020 05:00PM')"
   ]
  },
  {
   "cell_type": "markdown",
   "metadata": {},
   "source": [
    "## Calculate M"
   ]
  },
  {
   "cell_type": "code",
   "execution_count": 18,
   "metadata": {},
   "outputs": [
    {
     "name": "stderr",
     "output_type": "stream",
     "text": [
      "/home/ardelalegre/.local/lib/python3.5/site-packages/ipykernel_launcher.py:2: RuntimeWarning: invalid value encountered in true_divide\n",
      "  \n",
      "/home/ardelalegre/.local/lib/python3.5/site-packages/ipykernel_launcher.py:3: RuntimeWarning: invalid value encountered in true_divide\n",
      "  This is separate from the ipykernel package so we can avoid doing imports until\n",
      "/home/ardelalegre/.local/lib/python3.5/site-packages/ipykernel_launcher.py:4: RuntimeWarning: divide by zero encountered in true_divide\n",
      "  after removing the cwd from sys.path.\n",
      "/home/ardelalegre/.local/lib/python3.5/site-packages/ipykernel_launcher.py:4: RuntimeWarning: invalid value encountered in true_divide\n",
      "  after removing the cwd from sys.path.\n",
      "/home/ardelalegre/.local/lib/python3.5/site-packages/ipykernel_launcher.py:5: RuntimeWarning: divide by zero encountered in true_divide\n",
      "  \"\"\"\n",
      "/home/ardelalegre/.local/lib/python3.5/site-packages/ipykernel_launcher.py:5: RuntimeWarning: invalid value encountered in true_divide\n",
      "  \"\"\"\n",
      "/home/ardelalegre/.local/lib/python3.5/site-packages/ipykernel_launcher.py:6: RuntimeWarning: divide by zero encountered in true_divide\n",
      "  \n",
      "/home/ardelalegre/.local/lib/python3.5/site-packages/ipykernel_launcher.py:6: RuntimeWarning: invalid value encountered in true_divide\n",
      "  \n",
      "/home/ardelalegre/.local/lib/python3.5/site-packages/ipykernel_launcher.py:7: RuntimeWarning: divide by zero encountered in true_divide\n",
      "  import sys\n",
      "/home/ardelalegre/.local/lib/python3.5/site-packages/ipykernel_launcher.py:7: RuntimeWarning: invalid value encountered in true_divide\n",
      "  import sys\n",
      "/home/ardelalegre/.local/lib/python3.5/site-packages/ipykernel_launcher.py:8: RuntimeWarning: invalid value encountered in true_divide\n",
      "  \n",
      "/home/ardelalegre/.local/lib/python3.5/site-packages/ipykernel_launcher.py:9: RuntimeWarning: invalid value encountered in true_divide\n",
      "  if __name__ == '__main__':\n",
      "/home/ardelalegre/.local/lib/python3.5/site-packages/ipykernel_launcher.py:12: RuntimeWarning: invalid value encountered in true_divide\n",
      "  if sys.path[0] == '':\n",
      "/home/ardelalegre/.local/lib/python3.5/site-packages/ipykernel_launcher.py:13: RuntimeWarning: invalid value encountered in true_divide\n",
      "  del sys.path[0]\n"
     ]
    }
   ],
   "source": [
    "data = np.zeros((training_data.shape[0], 12))\n",
    "data[:, 0] = training_data[:, 1]/training_data[:, 3]\n",
    "data[:, 1] = training_data[:, 2]/training_data[:, 3]\n",
    "data[:, 2] = training_data[:, 4]/training_data[:, 6]\n",
    "data[:, 3] = training_data[:, 5]/training_data[:, 6]\n",
    "data[:, 4] = training_data[:, 7]/training_data[:, 9]\n",
    "data[:, 5] = training_data[:, 8]/training_data[:, 9]\n",
    "data[:, 6] = training_data[:, 10]/training_data[:, 12]\n",
    "data[:, 7] = training_data[:, 11]/training_data[:, 12]\n",
    "data[:, 8] = training_data[:, 13]/training_data[:, 15]\n",
    "data[:, 9] = training_data[:, 14]/training_data[:, 15]\n",
    "data[:, 10] = training_data[:, 16]/training_data[:, 18]\n",
    "data[:, 11] = training_data[:, 17]/training_data[:, 18]"
   ]
  },
  {
   "cell_type": "code",
   "execution_count": 50,
   "metadata": {},
   "outputs": [
    {
     "name": "stderr",
     "output_type": "stream",
     "text": [
      "/home/ardelalegre/.local/lib/python3.5/site-packages/ipykernel_launcher.py:1: RuntimeWarning: Mean of empty slice\n",
      "  \"\"\"Entry point for launching an IPython kernel.\n",
      "/home/ardelalegre/.local/lib/python3.5/site-packages/ipykernel_launcher.py:2: RuntimeWarning: invalid value encountered in subtract\n",
      "  \n",
      "/home/ardelalegre/.local/lib/python3.5/site-packages/ipykernel_launcher.py:13: RuntimeWarning: overflow encountered in add\n",
      "  del sys.path[0]\n",
      "/home/ardelalegre/.local/lib/python3.5/site-packages/ipykernel_launcher.py:13: RuntimeWarning: invalid value encountered in add\n",
      "  del sys.path[0]\n"
     ]
    },
    {
     "ename": "LinAlgError",
     "evalue": "Array must not contain infs or NaNs",
     "output_type": "error",
     "traceback": [
      "\u001b[0;31m--------------------------------------------------------------\u001b[0m",
      "\u001b[0;31mLinAlgError\u001b[0m                  Traceback (most recent call last)",
      "\u001b[0;32m<ipython-input-50-5a874e5fa635>\u001b[0m in \u001b[0;36m<module>\u001b[0;34m\u001b[0m\n\u001b[1;32m     16\u001b[0m \u001b[0;34m\u001b[0m\u001b[0m\n\u001b[1;32m     17\u001b[0m \u001b[0;31m#eigen values\u001b[0m\u001b[0;34m\u001b[0m\u001b[0;34m\u001b[0m\u001b[0m\n\u001b[0;32m---> 18\u001b[0;31m \u001b[0meigen_values\u001b[0m\u001b[0;34m,\u001b[0m \u001b[0meigen_vectors\u001b[0m \u001b[0;34m=\u001b[0m \u001b[0mLA\u001b[0m\u001b[0;34m.\u001b[0m\u001b[0meig\u001b[0m\u001b[0;34m(\u001b[0m\u001b[0m_cov\u001b[0m\u001b[0;34m)\u001b[0m\u001b[0;34m\u001b[0m\u001b[0m\n\u001b[0m",
      "\u001b[0;32m<__array_function__ internals>\u001b[0m in \u001b[0;36meig\u001b[0;34m(*args, **kwargs)\u001b[0m\n",
      "\u001b[0;32m~/.local/lib/python3.5/site-packages/numpy/linalg/linalg.py\u001b[0m in \u001b[0;36meig\u001b[0;34m(a)\u001b[0m\n\u001b[1;32m   1293\u001b[0m     \u001b[0m_assert_stacked_2d\u001b[0m\u001b[0;34m(\u001b[0m\u001b[0ma\u001b[0m\u001b[0;34m)\u001b[0m\u001b[0;34m\u001b[0m\u001b[0m\n\u001b[1;32m   1294\u001b[0m     \u001b[0m_assert_stacked_square\u001b[0m\u001b[0;34m(\u001b[0m\u001b[0ma\u001b[0m\u001b[0;34m)\u001b[0m\u001b[0;34m\u001b[0m\u001b[0m\n\u001b[0;32m-> 1295\u001b[0;31m     \u001b[0m_assert_finite\u001b[0m\u001b[0;34m(\u001b[0m\u001b[0ma\u001b[0m\u001b[0;34m)\u001b[0m\u001b[0;34m\u001b[0m\u001b[0m\n\u001b[0m\u001b[1;32m   1296\u001b[0m     \u001b[0mt\u001b[0m\u001b[0;34m,\u001b[0m \u001b[0mresult_t\u001b[0m \u001b[0;34m=\u001b[0m \u001b[0m_commonType\u001b[0m\u001b[0;34m(\u001b[0m\u001b[0ma\u001b[0m\u001b[0;34m)\u001b[0m\u001b[0;34m\u001b[0m\u001b[0m\n\u001b[1;32m   1297\u001b[0m \u001b[0;34m\u001b[0m\u001b[0m\n",
      "\u001b[0;32m~/.local/lib/python3.5/site-packages/numpy/linalg/linalg.py\u001b[0m in \u001b[0;36m_assert_finite\u001b[0;34m(*arrays)\u001b[0m\n\u001b[1;32m    216\u001b[0m     \u001b[0;32mfor\u001b[0m \u001b[0ma\u001b[0m \u001b[0;32min\u001b[0m \u001b[0marrays\u001b[0m\u001b[0;34m:\u001b[0m\u001b[0;34m\u001b[0m\u001b[0m\n\u001b[1;32m    217\u001b[0m         \u001b[0;32mif\u001b[0m \u001b[0;32mnot\u001b[0m \u001b[0misfinite\u001b[0m\u001b[0;34m(\u001b[0m\u001b[0ma\u001b[0m\u001b[0;34m)\u001b[0m\u001b[0;34m.\u001b[0m\u001b[0mall\u001b[0m\u001b[0;34m(\u001b[0m\u001b[0;34m)\u001b[0m\u001b[0;34m:\u001b[0m\u001b[0;34m\u001b[0m\u001b[0m\n\u001b[0;32m--> 218\u001b[0;31m             \u001b[0;32mraise\u001b[0m \u001b[0mLinAlgError\u001b[0m\u001b[0;34m(\u001b[0m\u001b[0;34m\"Array must not contain infs or NaNs\"\u001b[0m\u001b[0;34m)\u001b[0m\u001b[0;34m\u001b[0m\u001b[0m\n\u001b[0m\u001b[1;32m    219\u001b[0m \u001b[0;34m\u001b[0m\u001b[0m\n\u001b[1;32m    220\u001b[0m \u001b[0;32mdef\u001b[0m \u001b[0m_is_empty_2d\u001b[0m\u001b[0;34m(\u001b[0m\u001b[0marr\u001b[0m\u001b[0;34m)\u001b[0m\u001b[0;34m:\u001b[0m\u001b[0;34m\u001b[0m\u001b[0m\n",
      "\u001b[0;31mLinAlgError\u001b[0m: Array must not contain infs or NaNs"
     ]
    }
   ],
   "source": [
    "data_mean = np.nanmean(data[:,:],axis = 0,keepdims = True)\n",
    "tmp = data[:,:] - data_mean\n",
    "cdata=np.nan_to_num(tmp)\n",
    "\n",
    "\n",
    "dimensions = cdata.shape[1]\n",
    "n=cdata.shape[0]\n",
    "block_size=10000\n",
    "\n",
    "# calculate covariance matrix\n",
    "outters = np.zeros((dimensions, dimensions))\n",
    "for j in range(n):\n",
    "    outters += np.outer(cdata[j,:], cdata[j,:])\n",
    "\n",
    "_cov = outters/n\n",
    "\n",
    "#eigen values\n",
    "eigen_values, eigen_vectors = LA.eig(_cov)"
   ]
  },
  {
   "cell_type": "code",
   "execution_count": 55,
   "metadata": {},
   "outputs": [],
   "source": [
    "# array_sum = np.sum(cdata)\n",
    "bool_nan = np.isnan(cdata)\n",
    "a = np.where(bool_nan ==True)"
   ]
  },
  {
   "cell_type": "code",
   "execution_count": 56,
   "metadata": {},
   "outputs": [
    {
     "data": {
      "text/plain": [
       "(array([], dtype=int64), array([], dtype=int64))"
      ]
     },
     "execution_count": 56,
     "metadata": {},
     "output_type": "execute_result"
    }
   ],
   "source": [
    "a"
   ]
  },
  {
   "cell_type": "code",
   "execution_count": 60,
   "metadata": {},
   "outputs": [
    {
     "data": {
      "text/plain": [
       "array([[ 4.32747677e+05, -4.53661036e+05,             nan,\n",
       "                    nan,             nan,             nan,\n",
       "         1.52492743e+04, -7.44254614e+04,  0.00000000e+00,\n",
       "         0.00000000e+00,  2.81964397e+04, -4.79030134e+04],\n",
       "       [-4.53661036e+05,  1.85085710e+06,             nan,\n",
       "                    nan,             nan,             nan,\n",
       "         3.19715149e+05,  9.68439051e+04,  0.00000000e+00,\n",
       "         0.00000000e+00,  1.51773211e+05,  6.34280597e+04],\n",
       "       [            nan,             nan,             inf,\n",
       "                    inf,            -inf,            -inf,\n",
       "                    nan,             nan,  0.00000000e+00,\n",
       "         0.00000000e+00,             nan,             nan],\n",
       "       [            nan,             nan,             inf,\n",
       "                    inf,            -inf,            -inf,\n",
       "                    nan,             nan,  0.00000000e+00,\n",
       "         0.00000000e+00,             nan,             nan],\n",
       "       [            nan,             nan,            -inf,\n",
       "                   -inf,             inf,             inf,\n",
       "                    nan,             nan,  0.00000000e+00,\n",
       "         0.00000000e+00,             nan,             nan],\n",
       "       [            nan,             nan,            -inf,\n",
       "                   -inf,             inf,             inf,\n",
       "                    nan,             nan,  0.00000000e+00,\n",
       "         0.00000000e+00,             nan,             nan],\n",
       "       [ 1.52492743e+04,  3.19715149e+05,             nan,\n",
       "                    nan,             nan,             nan,\n",
       "         6.37308971e+05,  7.08069499e+04,  0.00000000e+00,\n",
       "         0.00000000e+00,  2.27991987e+05, -1.37880985e+03],\n",
       "       [-7.44254614e+04,  9.68439051e+04,             nan,\n",
       "                    nan,             nan,             nan,\n",
       "         7.08069499e+04,  3.68438883e+05,  0.00000000e+00,\n",
       "         0.00000000e+00,  1.30520523e+04,  1.30850770e+05],\n",
       "       [ 0.00000000e+00,  0.00000000e+00,  0.00000000e+00,\n",
       "         0.00000000e+00,  0.00000000e+00,  0.00000000e+00,\n",
       "         0.00000000e+00,  0.00000000e+00,  0.00000000e+00,\n",
       "         0.00000000e+00,  0.00000000e+00,  0.00000000e+00],\n",
       "       [ 0.00000000e+00,  0.00000000e+00,  0.00000000e+00,\n",
       "         0.00000000e+00,  0.00000000e+00,  0.00000000e+00,\n",
       "         0.00000000e+00,  0.00000000e+00,  0.00000000e+00,\n",
       "         0.00000000e+00,  0.00000000e+00,  0.00000000e+00],\n",
       "       [ 2.81964397e+04,  1.51773211e+05,             nan,\n",
       "                    nan,             nan,             nan,\n",
       "         2.27991987e+05,  1.30520523e+04,  0.00000000e+00,\n",
       "         0.00000000e+00,  4.50280597e+05, -7.31055120e+04],\n",
       "       [-4.79030134e+04,  6.34280597e+04,             nan,\n",
       "                    nan,             nan,             nan,\n",
       "        -1.37880985e+03,  1.30850770e+05,  0.00000000e+00,\n",
       "         0.00000000e+00, -7.31055120e+04,  3.88926813e+05]])"
      ]
     },
     "execution_count": 60,
     "metadata": {},
     "output_type": "execute_result"
    }
   ],
   "source": [
    "outters"
   ]
  },
  {
   "cell_type": "code",
   "execution_count": 58,
   "metadata": {},
   "outputs": [
    {
     "data": {
      "text/plain": [
       "array([[ 1.31096887e-01, -1.37432395e-01,             nan,\n",
       "                    nan,             nan,             nan,\n",
       "         4.61962592e-03, -2.25465018e-02,  0.00000000e+00,\n",
       "         0.00000000e+00,  8.54184935e-03, -1.45117727e-02],\n",
       "       [-1.37432395e-01,  5.60699956e-01,             nan,\n",
       "                    nan,             nan,             nan,\n",
       "         9.68547329e-02,  2.93379610e-02,  0.00000000e+00,\n",
       "         0.00000000e+00,  4.59782837e-02,  1.92149412e-02],\n",
       "       [            nan,             nan,             inf,\n",
       "                    inf,            -inf,            -inf,\n",
       "                    nan,             nan,  0.00000000e+00,\n",
       "         0.00000000e+00,             nan,             nan],\n",
       "       [            nan,             nan,             inf,\n",
       "                    inf,            -inf,            -inf,\n",
       "                    nan,             nan,  0.00000000e+00,\n",
       "         0.00000000e+00,             nan,             nan],\n",
       "       [            nan,             nan,            -inf,\n",
       "                   -inf,             inf,             inf,\n",
       "                    nan,             nan,  0.00000000e+00,\n",
       "         0.00000000e+00,             nan,             nan],\n",
       "       [            nan,             nan,            -inf,\n",
       "                   -inf,             inf,             inf,\n",
       "                    nan,             nan,  0.00000000e+00,\n",
       "         0.00000000e+00,             nan,             nan],\n",
       "       [ 4.61962592e-03,  9.68547329e-02,             nan,\n",
       "                    nan,             nan,             nan,\n",
       "         1.93066830e-01,  2.14503074e-02,  0.00000000e+00,\n",
       "         0.00000000e+00,  6.90680535e-02, -4.17697629e-04],\n",
       "       [-2.25465018e-02,  2.93379610e-02,             nan,\n",
       "                    nan,             nan,             nan,\n",
       "         2.14503074e-02,  1.11615135e-01,  0.00000000e+00,\n",
       "         0.00000000e+00,  3.95399793e-03,  3.96400245e-02],\n",
       "       [ 0.00000000e+00,  0.00000000e+00,  0.00000000e+00,\n",
       "         0.00000000e+00,  0.00000000e+00,  0.00000000e+00,\n",
       "         0.00000000e+00,  0.00000000e+00,  0.00000000e+00,\n",
       "         0.00000000e+00,  0.00000000e+00,  0.00000000e+00],\n",
       "       [ 0.00000000e+00,  0.00000000e+00,  0.00000000e+00,\n",
       "         0.00000000e+00,  0.00000000e+00,  0.00000000e+00,\n",
       "         0.00000000e+00,  0.00000000e+00,  0.00000000e+00,\n",
       "         0.00000000e+00,  0.00000000e+00,  0.00000000e+00],\n",
       "       [ 8.54184935e-03,  4.59782837e-02,             nan,\n",
       "                    nan,             nan,             nan,\n",
       "         6.90680535e-02,  3.95399793e-03,  0.00000000e+00,\n",
       "         0.00000000e+00,  1.36408322e-01, -2.21466354e-02],\n",
       "       [-1.45117727e-02,  1.92149412e-02,             nan,\n",
       "                    nan,             nan,             nan,\n",
       "        -4.17697629e-04,  3.96400245e-02,  0.00000000e+00,\n",
       "         0.00000000e+00, -2.21466354e-02,  1.17821763e-01]])"
      ]
     },
     "execution_count": 58,
     "metadata": {},
     "output_type": "execute_result"
    }
   ],
   "source": [
    "_cov"
   ]
  },
  {
   "cell_type": "markdown",
   "metadata": {},
   "source": [
    "### SVDImpute\n",
    "\n",
    "SVDImpute is a method for learning the matrix $M$ from a large set of vectors $\\bf{U}$, which contains measurement vector where some of the coordinates might be missing.\n",
    "Here we iteration between:\n",
    "\n",
    "1. Estimating $\\vec{s}$ and $\\vec{M}$\n",
    "2. Estimating $\\vec{r}$ and the unknown components of the vectors in $\\vec{U}$"
   ]
  },
  {
   "cell_type": "code",
   "execution_count": null,
   "metadata": {},
   "outputs": [],
   "source": []
  }
 ],
 "metadata": {
  "kernelspec": {
   "display_name": "Python 3",
   "language": "python",
   "name": "python3"
  },
  "language_info": {
   "codemirror_mode": {
    "name": "ipython",
    "version": 3
   },
   "file_extension": ".py",
   "mimetype": "text/x-python",
   "name": "python",
   "nbconvert_exporter": "python",
   "pygments_lexer": "ipython3",
   "version": "3.5.2"
  },
  "toc": {
   "base_numbering": 1,
   "nav_menu": {},
   "number_sections": true,
   "sideBar": true,
   "skip_h1_title": false,
   "title_cell": "Table of Contents",
   "title_sidebar": "Contents",
   "toc_cell": false,
   "toc_position": {},
   "toc_section_display": true,
   "toc_window_display": false
  }
 },
 "nbformat": 4,
 "nbformat_minor": 4
}
