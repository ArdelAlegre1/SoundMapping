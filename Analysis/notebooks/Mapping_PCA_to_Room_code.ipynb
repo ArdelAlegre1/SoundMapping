{
 "cells": [
  {
   "cell_type": "code",
   "execution_count": 2,
   "metadata": {},
   "outputs": [
    {
     "name": "stdout",
     "output_type": "stream",
     "text": [
      "Populating the interactive namespace from numpy and matplotlib\n"
     ]
    }
   ],
   "source": [
    "import pickle\n",
    "import sys\n",
    "sys.path.append('/home/ardelalegre/SoundMapping/Analysis/Util')\n",
    "from get_time_interval_matrix_data import get_time_interval_matrix_data\n",
    "from PCA import get_cdata\n",
    "from PCA import get_eigen_vectors\n",
    "from PCA import project_to_eigen_vectors\n",
    "from Plot import plot_data\n",
    "import matplotlib.pyplot as plt\n",
    "%pylab inline"
   ]
  },
  {
   "cell_type": "markdown",
   "metadata": {},
   "source": [
    "### Step 1: Train model on 29th and 30th September"
   ]
  },
  {
   "cell_type": "code",
   "execution_count": 3,
   "metadata": {},
   "outputs": [],
   "source": [
    "training_data = get_time_interval_matrix_data('Sep 29 2020 11:00AM', 'Sep 30 2020 05:00PM')"
   ]
  },
  {
   "cell_type": "code",
   "execution_count": 4,
   "metadata": {},
   "outputs": [
    {
     "name": "stderr",
     "output_type": "stream",
     "text": [
      "/home/ardelalegre/SoundMapping/Analysis/Util/PCA.py:44: RuntimeWarning: Mean of empty slice\n",
      "  data_mean = np.nanmean(data[:,1:],axis = 0,keepdims = True)\n"
     ]
    }
   ],
   "source": [
    "eigen_values_2930, eigen_vectors_2930 = get_eigen_vectors(training_data)"
   ]
  },
  {
   "cell_type": "markdown",
   "metadata": {},
   "source": [
    "### Step 2: Extract 10 points experiment data from recent 10 point experiment. Subtract mean and replace nans with 0s."
   ]
  },
  {
   "cell_type": "code",
   "execution_count": 5,
   "metadata": {},
   "outputs": [],
   "source": [
    "experiment_data = get_time_interval_matrix_data('Sep 30 2020 11:10AM', 'Sep 30 2020 11:20AM')"
   ]
  },
  {
   "cell_type": "code",
   "execution_count": 6,
   "metadata": {},
   "outputs": [],
   "source": [
    "experiment_cdata = get_cdata(experiment_data)"
   ]
  },
  {
   "cell_type": "markdown",
   "metadata": {},
   "source": [
    "### Step 3: Project this data onto the eigenvectors just trained."
   ]
  },
  {
   "cell_type": "markdown",
   "metadata": {},
   "source": [
    "### Let d be the number of PCA coordinates we choose to train our model with"
   ]
  },
  {
   "cell_type": "code",
   "execution_count": 17,
   "metadata": {},
   "outputs": [],
   "source": [
    "d = 3"
   ]
  },
  {
   "cell_type": "code",
   "execution_count": 18,
   "metadata": {},
   "outputs": [],
   "source": [
    "\"\"\"\n",
    "projects data to eigen vectors\n",
    "\n",
    "@param numpyArray cdata - data set to project to eigen vectors\n",
    "@param int dimensions - number of eigen vectors to project data onto\n",
    "\n",
    "if optional params are not set, default will be taken from values.py\n",
    "@optionalParam numpyArray eigen_values - array of eigen values\n",
    "@optionalParam numpyArray eigen_vectors - array of eigen vectors\n",
    "\n",
    "@return numpyArray data projected onto eigen vectors\n",
    "\"\"\"\n",
    "\n",
    "\n",
    "proj_exp_data = project_to_eigen_vectors(experiment_cdata, d, eigen_values_2930, eigen_vectors_2930)\n"
   ]
  },
  {
   "cell_type": "markdown",
   "metadata": {},
   "source": [
    "Take time averages: Each row is a position in the PCA space. For the first 40 seconds of each minute, we want just one row."
   ]
  },
  {
   "cell_type": "code",
   "execution_count": 19,
   "metadata": {},
   "outputs": [
    {
     "name": "stdout",
     "output_type": "stream",
     "text": [
      "The projected data is of shape (64665, 3) and the experiment data is of the shape (64665, 19)\n"
     ]
    }
   ],
   "source": [
    "print(\"The projected data is of shape\", proj_exp_data.shape,\"and the experiment data is of the shape\", experiment_data.shape)"
   ]
  },
  {
   "cell_type": "code",
   "execution_count": 20,
   "metadata": {},
   "outputs": [],
   "source": [
    "def extractMinuteData(i):\n",
    "    \"\"\"Input: int, index of minute, ranging from 0 to 9\n",
    "       Output: numpy array, relevant data corr. to minute\"\"\"\n",
    "    # making a list of numpy arrays that store the first three projections for each minute\n",
    "    # our list will have 10 entries - one for each minute\n",
    "\n",
    "    # we project our mean centered data onto the first three eigenvectors\n",
    "#     first_three_projections = np.dot(cdata,sorted_eigvec[:,:3])\n",
    "\n",
    "\n",
    "\n",
    "    # 1. extracting first entry of list below\n",
    "\n",
    "    format_timestring = '%b %d %Y %I:%M:%S%p' # setting format of input time\n",
    "    start_timestring = 'Sep 30 2020 11:1' + str(i) +':00AM' # setting start time\n",
    "    end_timestring = 'Sep 30 2020 11:1' + str(i) + ':40AM' # setting end time\n",
    "    start_standard_dt_string = datetime.datetime.strptime(start_timestring, format_timestring) # converting start time into datetim\n",
    "    end_standard_dt_string = datetime.datetime.strptime(end_timestring, format_timestring) # converting end time into datetime object\n",
    "\n",
    "\n",
    "    # given the starting and ending timestamps, we map them to indices of the data so that\n",
    "    # we know our time of interest in terms on indices\n",
    "\n",
    "    for x in range(experiment_data.shape[0]):\n",
    "        if(experiment_data[x,0] > datetime.datetime.timestamp(start_standard_dt_string) and experiment_data[x,0] < datetime.datetime.timestamp(end_standard_dt_string)):\n",
    "            start_index = x\n",
    "            break\n",
    "    for y in range(x,experiment_data.shape[0]):\n",
    "        if(experiment_data[y,0] > datetime.datetime.timestamp(end_standard_dt_string)):\n",
    "            end_index = y\n",
    "            break\n",
    "\n",
    "    # given the range of indices which correspond to the input time, we extract the relevant data from\n",
    "    # first_three_projections and returning\n",
    "    relevant_data_minute = proj_exp_data[x:y]\n",
    "    \n",
    "    return relevant_data_minute"
   ]
  },
  {
   "cell_type": "code",
   "execution_count": 21,
   "metadata": {},
   "outputs": [],
   "source": [
    "minute_arrays = [] # creating empty list where we will store 10 elements, each of which contains 1 minute data\n",
    "for i in range(10): # where i is minute\n",
    "    one_minute_data = extractMinuteData(i)\n",
    "    minute_arrays.append(one_minute_data)"
   ]
  },
  {
   "cell_type": "code",
   "execution_count": 22,
   "metadata": {},
   "outputs": [
    {
     "data": {
      "text/plain": [
       "array([[ 0.05822214, -0.00797179,  0.27806983],\n",
       "       [-0.32255706, -0.39739336, -0.22195283],\n",
       "       [-0.16200351, -1.08790654,  0.07445783],\n",
       "       [ 0.49177874, -0.63193515, -0.01310243],\n",
       "       [ 0.49622844, -0.31707096,  0.3743973 ],\n",
       "       [ 0.9332747 ,  0.56002251,  0.16896752],\n",
       "       [ 0.26446337,  1.06140409, -0.00474484],\n",
       "       [-0.56423322,  0.8989157 , -0.04060002],\n",
       "       [-1.03231139,  0.17344205, -0.26140588],\n",
       "       [-0.0713117 ,  0.16830789, -0.02724228]])"
      ]
     },
     "execution_count": 22,
     "metadata": {},
     "output_type": "execute_result"
    }
   ],
   "source": [
    "minute_mean_array = [np.mean(i,axis = 0) for i in minute_arrays]\n",
    "minute_mean_array_np = np.asarray([np.mean(i,axis = 0) for i in minute_arrays])\n",
    "minute_mean_array_np"
   ]
  },
  {
   "cell_type": "markdown",
   "metadata": {},
   "source": [
    "### Obtain physical (x, y) positions of all points 0 to 9"
   ]
  },
  {
   "cell_type": "code",
   "execution_count": 13,
   "metadata": {},
   "outputs": [],
   "source": [
    "p_0 = [0,0]\n",
    "p_1 = [1.2,-0.6]\n",
    "p_2 = [0,-0.6]\n",
    "p_3 = [-1.2,-0.6]\n",
    "p_4 = [1.2,0.6]\n",
    "p_5 = [0,0.6]\n",
    "p_6 = [-1.2,0.6]\n",
    "p_7 = [1.2,1.8]\n",
    "p_8 = [0,1.8]\n",
    "p_9 = [-1.2,1.8]\n",
    "\n",
    "list_phys_all_pt_coords = [p_0, p_1, p_2, p_3, p_4, p_5, p_6, p_7, p_8, p_9]"
   ]
  },
  {
   "cell_type": "code",
   "execution_count": 14,
   "metadata": {},
   "outputs": [
    {
     "name": "stdout",
     "output_type": "stream",
     "text": [
      "[[ 0.   0. ]\n",
      " [ 1.2 -0.6]\n",
      " [ 0.  -0.6]\n",
      " [-1.2 -0.6]\n",
      " [ 1.2  0.6]\n",
      " [ 0.   0.6]\n",
      " [-1.2  0.6]\n",
      " [ 1.2  1.8]\n",
      " [ 0.   1.8]\n",
      " [-1.2  1.8]]\n"
     ]
    }
   ],
   "source": [
    "phys_all_pt_coords = np.asarray(list_phys_all_pt_coords)\n",
    "print(phys_all_pt_coords)"
   ]
  },
  {
   "cell_type": "markdown",
   "metadata": {},
   "source": [
    "### Setup\n",
    "\n",
    "* Room coordinates : $\\vec{r}_i$ for $i=1:n$ $\\vec{r}_i \\in R^2$\n",
    "* PCA coordinates : $\\vec{v}_i$ for $i=1:n$ $\\vec{v}_i \\in R^{18}$\n",
    "\n",
    "We choose $d$ the number of PCA coordinates to use. Probably $d=2,3$\n",
    "\n",
    "We want an affine transformation which can be described by a matrix and a shoft vector.\n",
    "\n",
    "$\\vec{r} = \\vec{s} + M \\vec{v}$  where $\\vec{s}$ is a 2 dimensional shift, and $M$ is a $2 \\times d$ matrix\n",
    "\n",
    "We can add a coordinate equal to $1$ to the vector $\\vec{v}$ (call it $\\vec{w}$) and add a column equal to $\\vec{s}$ to the matrix $M$ (call is $G$)\n",
    "\n",
    "Now we have an expressions of the form \n",
    "\n",
    "$ \\vec{r}_i = G \\vec{w}_i$\n",
    "\n",
    "### Solving\n",
    "\n",
    "The $2(d+1)$ entries of $G$ the unknowns.\n",
    "\n",
    "If $2(d+1) > n$ then we have an under-constrained system (there is an infinite number of solutions)\n",
    "\n",
    "Define the regularization term $\\|G\\|$ as the sum of the squares of all entries in $G$.\n",
    "\n",
    "If $2(d+1) < n$ then there is no solution (in general).\n",
    "\n",
    "We can replace the equalities $ \\vec{r}_i = G \\vec{w}_i$ by an error:\n",
    "$$\\sum_i \\| \\vec{r}_i - G \\vec{w}_i\\|_2^2 $$\n",
    "\n",
    "Combining this with the regularization term, we get\n",
    "\n",
    "$$err(G) = \\sum_i \\| \\vec{r}_i - G \\vec{w}_i \\|_2^2 + \\|G\\|$$ \n",
    "\n",
    "and our goal is to find $G$ with the minimal error."
   ]
  },
  {
   "cell_type": "markdown",
   "metadata": {},
   "source": [
    "$$\n",
    "G = \n",
    "\\begin{bmatrix}\n",
    "G_{1,1} & G_{1,2} & \\cdots & G_{1,{d+1}} \\\\\n",
    "G_{2,1} & G_{2,2} & \\cdots & G_{2,{d+1}}\n",
    "\\end{bmatrix}\n",
    "$$\n",
    "\n",
    "We find that the optimization of $err(G)$ can be written as two independent optimizations:\n",
    "$$err_x(G) =  \\sum_i \\left( \\begin{bmatrix}\n",
    "G_{1,1} & G_{1,2} & \\cdots & G_{1,{d+1}}\n",
    "\\end{bmatrix}\n",
    "\\vec{w}_i^T -\\vec{r}_{i,1}\n",
    "\\right)^2 $$\n",
    "\n",
    "$$err_y(G) =  \\sum_i \\left( \\begin{bmatrix}\n",
    "G_{2,1} & G_{2,2} & \\cdots & G_{2,{d+1}}\n",
    "\\end{bmatrix}\n",
    "\\vec{w}_i^T -\\vec{r}_{i,2}\n",
    "\\right)^2 $$\n",
    "\n",
    "As the variables to be optimized for each error (the $G_i's$) are disjoint, each of $err_x,err_y$ can be optimized indpendently. "
   ]
  },
  {
   "cell_type": "markdown",
   "metadata": {},
   "source": [
    "### Defining matrices"
   ]
  },
  {
   "cell_type": "markdown",
   "metadata": {},
   "source": [
    "$R$ should be a matrix consisting of all physical coordinates $r$ "
   ]
  },
  {
   "cell_type": "code",
   "execution_count": 58,
   "metadata": {},
   "outputs": [
    {
     "data": {
      "text/plain": [
       "array([[ 0. ,  0. ],\n",
       "       [ 1.2, -0.6],\n",
       "       [ 0. , -0.6],\n",
       "       [-1.2, -0.6],\n",
       "       [ 1.2,  0.6],\n",
       "       [ 0. ,  0.6],\n",
       "       [-1.2,  0.6],\n",
       "       [ 1.2,  1.8],\n",
       "       [ 0. ,  1.8],\n",
       "       [-1.2,  1.8]])"
      ]
     },
     "execution_count": 58,
     "metadata": {},
     "output_type": "execute_result"
    }
   ],
   "source": [
    "R = phys_all_pt_coords\n",
    "R"
   ]
  },
  {
   "cell_type": "markdown",
   "metadata": {},
   "source": [
    "Similarly, $W$ should be a matrix with all the d dimensional PCA points with a 1 appended to it."
   ]
  },
  {
   "cell_type": "code",
   "execution_count": 59,
   "metadata": {},
   "outputs": [],
   "source": [
    "part_W = minute_mean_array_np.T\n",
    "ones = np.asarray([1.0 for i in range(10)])\n",
    "W = np.vstack((part_W, ones))"
   ]
  },
  {
   "cell_type": "markdown",
   "metadata": {},
   "source": [
    "Model A is only for x coordinates, so we take a subset of R"
   ]
  },
  {
   "cell_type": "code",
   "execution_count": null,
   "metadata": {
    "scrolled": true
   },
   "outputs": [
    {
     "data": {
      "text/plain": [
       "array([ 0. ,  1.2,  0. , -1.2,  1.2,  0. , -1.2,  1.2,  0. , -1.2])"
      ]
     },
     "execution_count": 60,
     "metadata": {},
     "output_type": "execute_result"
    }
   ],
   "source": [
    "model_a_Y = R[:,0]\n",
    "model_a_Y"
   ]
  },
  {
   "cell_type": "markdown",
   "metadata": {},
   "source": [
    "We will store the features in model_a_X"
   ]
  },
  {
   "cell_type": "code",
   "execution_count": 47,
   "metadata": {},
   "outputs": [
    {
     "data": {
      "text/plain": [
       "array([[ 0.05822214, -0.00797179,  0.27806983,  1.        ],\n",
       "       [-0.32255706, -0.39739336, -0.22195283,  1.        ],\n",
       "       [-0.16200351, -1.08790654,  0.07445783,  1.        ],\n",
       "       [ 0.49177874, -0.63193515, -0.01310243,  1.        ],\n",
       "       [ 0.49622844, -0.31707096,  0.3743973 ,  1.        ],\n",
       "       [ 0.9332747 ,  0.56002251,  0.16896752,  1.        ],\n",
       "       [ 0.26446337,  1.06140409, -0.00474484,  1.        ],\n",
       "       [-0.56423322,  0.8989157 , -0.04060002,  1.        ],\n",
       "       [-1.03231139,  0.17344205, -0.26140588,  1.        ],\n",
       "       [-0.0713117 ,  0.16830789, -0.02724228,  1.        ]])"
      ]
     },
     "execution_count": 47,
     "metadata": {},
     "output_type": "execute_result"
    }
   ],
   "source": [
    "model_a_X = W.T\n",
    "model_a_X"
   ]
  },
  {
   "cell_type": "markdown",
   "metadata": {},
   "source": [
    "We now create a model for the X values using sklearn"
   ]
  },
  {
   "cell_type": "code",
   "execution_count": 53,
   "metadata": {},
   "outputs": [],
   "source": [
    "# Create linear regression object\n",
    "from sklearn import linear_model\n",
    "regr = linear_model.LinearRegression(fit_intercept = False)"
   ]
  },
  {
   "cell_type": "code",
   "execution_count": 54,
   "metadata": {},
   "outputs": [
    {
     "data": {
      "text/plain": [
       "LinearRegression(copy_X=True, fit_intercept=False, n_jobs=None, normalize=False)"
      ]
     },
     "execution_count": 54,
     "metadata": {},
     "output_type": "execute_result"
    }
   ],
   "source": [
    "regr.fit(model_a_X, model_a_Y)"
   ]
  },
  {
   "cell_type": "code",
   "execution_count": 55,
   "metadata": {},
   "outputs": [
    {
     "name": "stdout",
     "output_type": "stream",
     "text": [
      "Coefficients: \n",
      " [-1.04126802 -0.06492261  2.52852803 -0.07038506]\n"
     ]
    }
   ],
   "source": [
    "print('Coefficients: \\n', regr.coef_)"
   ]
  },
  {
   "cell_type": "code",
   "execution_count": null,
   "metadata": {},
   "outputs": [],
   "source": []
  }
 ],
 "metadata": {
  "kernelspec": {
   "display_name": "Python 3",
   "language": "python",
   "name": "python3"
  },
  "language_info": {
   "codemirror_mode": {
    "name": "ipython",
    "version": 3
   },
   "file_extension": ".py",
   "mimetype": "text/x-python",
   "name": "python",
   "nbconvert_exporter": "python",
   "pygments_lexer": "ipython3",
   "version": "3.5.2"
  },
  "toc": {
   "base_numbering": 1,
   "nav_menu": {},
   "number_sections": true,
   "sideBar": true,
   "skip_h1_title": false,
   "title_cell": "Table of Contents",
   "title_sidebar": "Contents",
   "toc_cell": false,
   "toc_position": {},
   "toc_section_display": true,
   "toc_window_display": false
  }
 },
 "nbformat": 4,
 "nbformat_minor": 4
}
