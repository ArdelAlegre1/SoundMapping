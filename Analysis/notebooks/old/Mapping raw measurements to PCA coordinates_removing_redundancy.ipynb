{
 "cells": [
  {
   "cell_type": "markdown",
   "metadata": {},
   "source": [
    "### Setup\n",
    "\n",
    "* Measurements $(x_i,y_i,z_i)$ for $i=1:m$ where $m$ is the number of microphones. For some of the microphone there might not be measurements, which we indicate by $x_i=y_1=z_i=?$\n",
    "* Redundancy: $x_i^2+y_i^2+z_i^2 = 1$ thus there are only two degrees of freedom. A simple reduction to two is $ x \\to x/z$, $y \\to y/z$\n",
    "* Over-determined system: We choose $d=2,3,4$ the number of PCA coordinates to use. \n",
    "\n",
    "We want to solve for two sets of variables: the coefficients in front of the $d$ vectors, and the values corresponding to unknown entries in $x$. Assuming we reduced from 3 to 2 coordintes per array, lets indicate the missing coordinates by $u_i,v_i$ and indicate the combined vector by $\\vec{U} = \\{(x_1,y_1),\\ldots,(x_k,y_k),(u_{k+1},v_{k+1}),\\ldots,(u_m,v_m)\\}$\n",
    "\n",
    "We want an affine transformation which can be described by a matrix and a shift vector.\n",
    "\n",
    "$$\\vec{r} = \\vec{s} + M \\vec{U}$$ ( is this correct, or should it be,) - C\n",
    "\n",
    "$$\\vec{r} = M (\\vec{U} - \\vec{s})$$ - C\n",
    "\n",
    "(where s is the nan mean of the measurement matrix. r is the PCA space point. M is the PCA matrix. U is the measurement vector.) - C\n",
    "\n",
    "Here $M$ and $\\vec{s}$ are known. The unknowns are the last $m-k$ coordinates of $U$ and the vector $\\vec{r}$\n",
    "\n",
    "### Solving\n",
    "As this system is not linear, we can't solve in a single step, instead, we solve using two-step iterations.\n",
    "\n",
    "0. **init** set the unknown coordinates $(u_i,v_i)$ to their mean value.\n",
    "1. **update $\\vec{r}$** using the fully defined $\\vec{U}$\n",
    "2. **update unknown measurements** update the unknown coordinates of $\\vec{U}$ according to the current value of $\\vec{r}$.\n",
    "\n",
    "Steps 1,2 are repeated until convergence to some tolerance $\\epsilon$.\n"
   ]
  },
  {
   "cell_type": "code",
   "execution_count": 5,
   "metadata": {},
   "outputs": [],
   "source": [
    "import numpy as np\n",
    "import pickle\n",
    "import sys\n",
    "from numpy import linalg as LA\n",
    "from sklearn.cluster import KMeans\n",
    "sys.path.append('/home/ardelalegre/SoundMapping/Analysis/Util')\n",
    "from get_time_interval_matrix_data import get_time_interval_matrix_data\n",
    "from PCA import get_cdata\n",
    "from PCA import get_eigen_vectors\n",
    "from PCA import project_to_eigen_vectors\n",
    "from Plot import plot_data\n",
    "import matplotlib.pyplot as plt"
   ]
  },
  {
   "cell_type": "code",
   "execution_count": 2,
   "metadata": {},
   "outputs": [],
   "source": [
    "training_data = get_time_interval_matrix_data('Sep 29 2020 11:00AM', 'Sep 30 2020 05:00PM')"
   ]
  },
  {
   "cell_type": "code",
   "execution_count": 3,
   "metadata": {},
   "outputs": [
    {
     "data": {
      "text/plain": [
       "(3300976, 19)"
      ]
     },
     "execution_count": 3,
     "metadata": {},
     "output_type": "execute_result"
    }
   ],
   "source": [
    "training_data.shape"
   ]
  },
  {
   "cell_type": "code",
   "execution_count": 7,
   "metadata": {},
   "outputs": [
    {
     "data": {
      "text/plain": [
       "1601402405.7724"
      ]
     },
     "execution_count": 7,
     "metadata": {},
     "output_type": "execute_result"
    }
   ],
   "source": [
    "training_data[0,0]"
   ]
  },
  {
   "cell_type": "markdown",
   "metadata": {},
   "source": [
    "### Running the same pca steps for non transformed data"
   ]
  },
  {
   "cell_type": "code",
   "execution_count": 17,
   "metadata": {
    "scrolled": true
   },
   "outputs": [
    {
     "name": "stderr",
     "output_type": "stream",
     "text": [
      "/home/ardelalegre/.local/lib/python3.5/site-packages/ipykernel_launcher.py:1: RuntimeWarning: Mean of empty slice\n",
      "  \"\"\"Entry point for launching an IPython kernel.\n"
     ]
    }
   ],
   "source": [
    "training_data_mean = np.nanmean(training_data,axis = 0,keepdims = True)"
   ]
  },
  {
   "cell_type": "code",
   "execution_count": 18,
   "metadata": {},
   "outputs": [
    {
     "data": {
      "text/plain": [
       "array([[ 1.60145091e+09, -1.91834520e-01,  1.74353581e-01,\n",
       "         7.61226746e-01, -1.46510852e-01, -1.13185729e-01,\n",
       "         7.05655222e-01, -1.83930866e-01,  4.69523846e-01,\n",
       "         6.08664179e-01,  2.92724281e-02, -1.65958577e-01,\n",
       "         8.04998712e-01,             nan,             nan,\n",
       "                    nan,  7.15029289e-02,  5.16866813e-01,\n",
       "         6.49699602e-01]])"
      ]
     },
     "execution_count": 18,
     "metadata": {},
     "output_type": "execute_result"
    }
   ],
   "source": [
    "training_data_mean"
   ]
  },
  {
   "cell_type": "markdown",
   "metadata": {},
   "source": [
    "### To calculate M, we remove the redundancy in the data. For each x, y, z triplet, we divide x and y by z"
   ]
  },
  {
   "cell_type": "markdown",
   "metadata": {},
   "source": [
    "### The problem is that sometimes the z values are 0. This leads to the infinity values in the transformed data."
   ]
  },
  {
   "cell_type": "markdown",
   "metadata": {},
   "source": [
    "### Find x and y values when z = 0. If they are 0 too, we discard them or ignore them?"
   ]
  },
  {
   "cell_type": "code",
   "execution_count": 20,
   "metadata": {},
   "outputs": [],
   "source": [
    "zero_triplets = np.where(training_data[:, 3] == 0)"
   ]
  },
  {
   "cell_type": "code",
   "execution_count": 21,
   "metadata": {},
   "outputs": [
    {
     "data": {
      "text/plain": [
       "(array([  11033,   11034,   11035, ..., 3269359, 3269360, 3269361]),)"
      ]
     },
     "execution_count": 21,
     "metadata": {},
     "output_type": "execute_result"
    }
   ],
   "source": [
    "zero_triplets"
   ]
  },
  {
   "cell_type": "code",
   "execution_count": 23,
   "metadata": {},
   "outputs": [
    {
     "data": {
      "text/plain": [
       "numpy.ndarray"
      ]
     },
     "execution_count": 23,
     "metadata": {},
     "output_type": "execute_result"
    }
   ],
   "source": [
    "type(zero_triplets[0])"
   ]
  },
  {
   "cell_type": "code",
   "execution_count": 25,
   "metadata": {},
   "outputs": [],
   "source": [
    "where_z_array0_is_zero = training_data[zero_triplets[0]]"
   ]
  },
  {
   "cell_type": "code",
   "execution_count": 26,
   "metadata": {},
   "outputs": [
    {
     "data": {
      "text/plain": [
       "(143989, 19)"
      ]
     },
     "execution_count": 26,
     "metadata": {},
     "output_type": "execute_result"
    }
   ],
   "source": [
    "where_z_array0_is_zero.shape"
   ]
  },
  {
   "cell_type": "code",
   "execution_count": 35,
   "metadata": {
    "scrolled": true
   },
   "outputs": [
    {
     "data": {
      "image/png": "[encoded data removed]",
      "text/plain": [
       "<Figure size 432x288 with 1 Axes>"
      ]
     },
     "metadata": {
      "needs_background": "light"
     },
     "output_type": "display_data"
    }
   ],
   "source": [
    "fig = plt.figure()\n",
    "ax = fig.add_subplot(111)\n",
    "ax.plot(where_z_array0_is_zero[:,1:4])\n",
    "ax.set_title('We notice that when z = 0, x and y are also = 0');"
   ]
  },
  {
   "cell_type": "code",
   "execution_count": 6,
   "metadata": {},
   "outputs": [],
   "source": [
    "data = np.zeros((training_data.shape[0], 12))"
   ]
  },
  {
   "cell_type": "code",
   "execution_count": 13,
   "metadata": {},
   "outputs": [
    {
     "data": {
      "text/plain": [
       "1"
      ]
     },
     "execution_count": 13,
     "metadata": {},
     "output_type": "execute_result"
    }
   ],
   "source": [
    "z_zero"
   ]
  },
  {
   "cell_type": "code",
   "execution_count": 8,
   "metadata": {
    "scrolled": true
   },
   "outputs": [
    {
     "name": "stderr",
     "output_type": "stream",
     "text": [
      "/home/ardelalegre/.local/lib/python3.5/site-packages/ipykernel_launcher.py:1: RuntimeWarning: invalid value encountered in true_divide\n",
      "  \"\"\"Entry point for launching an IPython kernel.\n",
      "/home/ardelalegre/.local/lib/python3.5/site-packages/ipykernel_launcher.py:2: RuntimeWarning: invalid value encountered in true_divide\n",
      "  \n",
      "/home/ardelalegre/.local/lib/python3.5/site-packages/ipykernel_launcher.py:3: RuntimeWarning: divide by zero encountered in true_divide\n",
      "  This is separate from the ipykernel package so we can avoid doing imports until\n",
      "/home/ardelalegre/.local/lib/python3.5/site-packages/ipykernel_launcher.py:3: RuntimeWarning: invalid value encountered in true_divide\n",
      "  This is separate from the ipykernel package so we can avoid doing imports until\n",
      "/home/ardelalegre/.local/lib/python3.5/site-packages/ipykernel_launcher.py:4: RuntimeWarning: divide by zero encountered in true_divide\n",
      "  after removing the cwd from sys.path.\n",
      "/home/ardelalegre/.local/lib/python3.5/site-packages/ipykernel_launcher.py:4: RuntimeWarning: invalid value encountered in true_divide\n",
      "  after removing the cwd from sys.path.\n",
      "/home/ardelalegre/.local/lib/python3.5/site-packages/ipykernel_launcher.py:5: RuntimeWarning: divide by zero encountered in true_divide\n",
      "  \"\"\"\n",
      "/home/ardelalegre/.local/lib/python3.5/site-packages/ipykernel_launcher.py:5: RuntimeWarning: invalid value encountered in true_divide\n",
      "  \"\"\"\n",
      "/home/ardelalegre/.local/lib/python3.5/site-packages/ipykernel_launcher.py:6: RuntimeWarning: divide by zero encountered in true_divide\n",
      "  \n",
      "/home/ardelalegre/.local/lib/python3.5/site-packages/ipykernel_launcher.py:6: RuntimeWarning: invalid value encountered in true_divide\n",
      "  \n",
      "/home/ardelalegre/.local/lib/python3.5/site-packages/ipykernel_launcher.py:7: RuntimeWarning: invalid value encountered in true_divide\n",
      "  import sys\n",
      "/home/ardelalegre/.local/lib/python3.5/site-packages/ipykernel_launcher.py:8: RuntimeWarning: invalid value encountered in true_divide\n",
      "  \n",
      "/home/ardelalegre/.local/lib/python3.5/site-packages/ipykernel_launcher.py:11: RuntimeWarning: invalid value encountered in true_divide\n",
      "  # This is added back by InteractiveShellApp.init_path()\n",
      "/home/ardelalegre/.local/lib/python3.5/site-packages/ipykernel_launcher.py:12: RuntimeWarning: invalid value encountered in true_divide\n",
      "  if sys.path[0] == '':\n"
     ]
    }
   ],
   "source": [
    "data[:, 0] = training_data[:, 1]/training_data[:, 3]\n",
    "data[:, 1] = training_data[:, 2]/training_data[:, 3]\n",
    "data[:, 2] = training_data[:, 4]/training_data[:, 6]\n",
    "data[:, 3] = training_data[:, 5]/training_data[:, 6]\n",
    "data[:, 4] = training_data[:, 7]/training_data[:, 9]\n",
    "data[:, 5] = training_data[:, 8]/training_data[:, 9]\n",
    "data[:, 6] = training_data[:, 10]/training_data[:, 12]\n",
    "data[:, 7] = training_data[:, 11]/training_data[:, 12]\n",
    "data[:, 8] = training_data[:, 13]/training_data[:, 15]\n",
    "data[:, 9] = training_data[:, 14]/training_data[:, 15]\n",
    "data[:, 10] = training_data[:, 16]/training_data[:, 18]\n",
    "data[:, 11] = training_data[:, 17]/training_data[:, 18]"
   ]
  },
  {
   "cell_type": "code",
   "execution_count": 14,
   "metadata": {
    "scrolled": true
   },
   "outputs": [
    {
     "name": "stderr",
     "output_type": "stream",
     "text": [
      "/home/ardelalegre/.local/lib/python3.5/site-packages/ipykernel_launcher.py:1: RuntimeWarning: Mean of empty slice\n",
      "  \"\"\"Entry point for launching an IPython kernel.\n"
     ]
    }
   ],
   "source": [
    "data_mean = np.nanmean(data,axis = 0,keepdims = True)"
   ]
  },
  {
   "cell_type": "code",
   "execution_count": 19,
   "metadata": {},
   "outputs": [
    {
     "data": {
      "text/plain": [
       "array([[-487490.69083365,  611234.18102133,             -inf,\n",
       "                    -inf,              inf,              inf,\n",
       "         177646.12826065, -487741.80342168,       0.        ,\n",
       "              0.        ,  215612.17720065, 1194704.94583223]])"
      ]
     },
     "execution_count": 19,
     "metadata": {},
     "output_type": "execute_result"
    }
   ],
   "source": [
    "data_sum = np.nansum(data,axis = 0,keepdims = True)\n",
    "data_sum"
   ]
  },
  {
   "cell_type": "code",
   "execution_count": 16,
   "metadata": {},
   "outputs": [
    {
     "data": {
      "text/plain": [
       "(3300976, 12)"
      ]
     },
     "execution_count": 16,
     "metadata": {},
     "output_type": "execute_result"
    }
   ],
   "source": [
    "data.shape"
   ]
  },
  {
   "cell_type": "code",
   "execution_count": 15,
   "metadata": {},
   "outputs": [
    {
     "data": {
      "text/plain": [
       "array([[-0.36722186,  0.46043659,        -inf,        -inf,         inf,\n",
       "                inf,  0.08109052, -0.22264057,         nan,         nan,\n",
       "         0.15068839,  0.83496287]])"
      ]
     },
     "execution_count": 15,
     "metadata": {},
     "output_type": "execute_result"
    }
   ],
   "source": [
    "data_mean"
   ]
  },
  {
   "cell_type": "code",
   "execution_count": null,
   "metadata": {},
   "outputs": [],
   "source": []
  },
  {
   "cell_type": "code",
   "execution_count": null,
   "metadata": {},
   "outputs": [],
   "source": [
    "cdata=np.nan_to_num(tmp)\n",
    "\n",
    "\n",
    "dimensions = cdata.shape[1]\n",
    "n=cdata.shape[0]\n",
    "block_size=10000\n",
    "\n",
    "# calculate covariance matrix\n",
    "outters = np.zeros((dimensions, dimensions))\n",
    "for j in range(n):\n",
    "    outters += np.outer(cdata[j,:], cdata[j,:])\n",
    "\n",
    "_cov = outters/n\n",
    "\n",
    "#eigen values\n",
    "eigen_values, eigen_vectors = LA.eig(_cov)"
   ]
  },
  {
   "cell_type": "code",
   "execution_count": null,
   "metadata": {},
   "outputs": [],
   "source": [
    "# array_sum = np.sum(cdata)\n",
    "bool_nan = np.isnan(cdata)\n",
    "a = np.where(bool_nan ==True)"
   ]
  },
  {
   "cell_type": "code",
   "execution_count": null,
   "metadata": {},
   "outputs": [],
   "source": [
    "a"
   ]
  },
  {
   "cell_type": "code",
   "execution_count": null,
   "metadata": {},
   "outputs": [],
   "source": [
    "outters"
   ]
  },
  {
   "cell_type": "code",
   "execution_count": null,
   "metadata": {},
   "outputs": [],
   "source": [
    "_cov"
   ]
  },
  {
   "cell_type": "markdown",
   "metadata": {},
   "source": [
    "### SVDImpute\n",
    "\n",
    "SVDImpute is a method for learning the matrix $M$ from a large set of vectors $\\bf{U}$, which contains measurement vector where some of the coordinates might be missing.\n",
    "Here we iteration between:\n",
    "\n",
    "1. Estimating $\\vec{s}$ and $\\vec{M}$\n",
    "2. Estimating $\\vec{r}$ and the unknown components of the vectors in $\\vec{U}$"
   ]
  },
  {
   "cell_type": "code",
   "execution_count": null,
   "metadata": {},
   "outputs": [],
   "source": []
  }
 ],
 "metadata": {
  "kernelspec": {
   "display_name": "Python 3",
   "language": "python",
   "name": "python3"
  },
  "language_info": {
   "codemirror_mode": {
    "name": "ipython",
    "version": 3
   },
   "file_extension": ".py",
   "mimetype": "text/x-python",
   "name": "python",
   "nbconvert_exporter": "python",
   "pygments_lexer": "ipython3",
   "version": "3.5.2"
  },
  "toc": {
   "base_numbering": 1,
   "nav_menu": {},
   "number_sections": true,
   "sideBar": true,
   "skip_h1_title": false,
   "title_cell": "Table of Contents",
   "title_sidebar": "Contents",
   "toc_cell": false,
   "toc_position": {},
   "toc_section_display": true,
   "toc_window_display": false
  }
 },
 "nbformat": 4,
 "nbformat_minor": 4
}
