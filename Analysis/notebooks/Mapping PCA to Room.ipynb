{
 "cells": [
  {
   "cell_type": "markdown",
   "metadata": {},
   "source": [
    "### Setup\n",
    "\n",
    "* Room coordinates : $\\vec{r}_i$ for $i=1:n$ $\\vec{r}_i \\in R^2$\n",
    "* PCA coordinates : $\\vec{v}_i$ for $i=1:n$ $\\vec{v}_i \\in R^{18}$\n",
    "\n",
    "We choose $d$ the number of PCA coordinates to use. Probably $d=2,3$\n",
    "\n",
    "We want an affine transformation which can be described by a matrix and a shoft vector.\n",
    "\n",
    "$\\vec{r} = \\vec{s} + M \\vec{v}$  where $\\vec{s}$ is a 2 dimensional shift, and $M$ is a $d \\times 2$ matrix\n",
    "\n",
    "We can add a coordinate equal to $1$ to the vector $\\vec{v}$ (call it $\\vec{w}$) and add a column equal to $\\vec{s}$ to the matrix $M$ (call is $G$)\n",
    "\n",
    "Now we have an expressions of the form \n",
    "\n",
    "$ \\vec{r}_i = G \\vec{w}_i$\n",
    "\n",
    "### Solving\n",
    "\n",
    "The $2(d+1)$ entries of $G$ the unknowns.\n",
    "\n",
    "If $2(d+1) > n$ then we have an under-constrained system (there is an infinite number of solutions)\n",
    "\n",
    "Define the regularization term $\\|G\\|$ as the sum of the squares of all entries in $G$.\n",
    "\n",
    "If $2(d+1) < n$ then there is no solution (in general).\n",
    "\n",
    "We can replace the equalities $ \\vec{r}_i = G \\vec{w}_i$ by an error:\n",
    "$$\\sum_i \\| \\vec{r}_i - G \\vec{w}_i\\|_2^2 $$\n",
    "\n",
    "Combining this with the regularization term, we get\n",
    "\n",
    "$$err(G) = \\sum_i \\| \\vec{r}_i - G \\vec{w}_i \\|_2^2 + \\|G\\|$$ \n",
    "\n",
    "and our goal is to find $G$ with the minimal error."
   ]
  },
  {
   "cell_type": "markdown",
   "metadata": {},
   "source": [
    "$$\n",
    "G = \n",
    "\\begin{bmatrix}\n",
    "G_{1,1} & G_{1,2} & \\cdots & G_{1,{d+1}} \\\\\n",
    "G_{2,1} & G_{2,2} & \\cdots & G_{2,{d+1}}\n",
    "\\end{bmatrix}\n",
    "$$\n",
    "\n",
    "We find that the optimization of $err(G)$ can be written as two independent optimizations:\n",
    "$$err_x(G) =  \\sum_i \\left( \\begin{bmatrix}\n",
    "G_{1,1} & G_{1,2} & \\cdots & G_{1,{d+1}}\n",
    "\\end{bmatrix}\n",
    "\\vec{w}_i^T -\\vec{r}_{i,1}\n",
    "\\right)^2 $$\n",
    "\n",
    "$$err_y(G) =  \\sum_i \\left( \\begin{bmatrix}\n",
    "G_{2,1} & G_{2,2} & \\cdots & G_{2,{d+1}}\n",
    "\\end{bmatrix}\n",
    "\\vec{w}_i^T -\\vec{r}_{i,2}\n",
    "\\right)^2 $$\n",
    "\n",
    "As the variables to be optimized for each error (the $G_i's$) are disjoint, each of $err_x,err_y$ can be optimized indpendently. "
   ]
  },
  {
   "cell_type": "code",
   "execution_count": null,
   "metadata": {},
   "outputs": [],
   "source": []
  }
 ],
 "metadata": {
  "kernelspec": {
   "display_name": "Python 3",
   "language": "python",
   "name": "python3"
  },
  "language_info": {
   "codemirror_mode": {
    "name": "ipython",
    "version": 3
   },
   "file_extension": ".py",
   "mimetype": "text/x-python",
   "name": "python",
   "nbconvert_exporter": "python",
   "pygments_lexer": "ipython3",
   "version": "3.7.6"
  },
  "toc": {
   "base_numbering": 1,
   "nav_menu": {},
   "number_sections": true,
   "sideBar": true,
   "skip_h1_title": false,
   "title_cell": "Table of Contents",
   "title_sidebar": "Contents",
   "toc_cell": false,
   "toc_position": {},
   "toc_section_display": true,
   "toc_window_display": false
  }
 },
 "nbformat": 4,
 "nbformat_minor": 4
}
