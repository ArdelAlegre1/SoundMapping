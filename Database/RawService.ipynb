{
 "cells": [
  {
   "cell_type": "code",
   "execution_count": null,
   "metadata": {},
   "outputs": [],
   "source": [
    "\"\"\"API for raw table\"\"\"\n",
    "import database_engine from util\n",
    "import execute_query from util\n",
    "\n",
    "\"\"\"\n",
    "Query for data points between a time interval\n",
    "\n",
    "@param datetime.datetime start_time - begininng of time interval\n",
    "@param datetime.datetime end_time - end of time interval\n",
    "\n",
    "@return data from query\n",
    "\"\"\"\n",
    "def get_time_interval_data(start_time, end_time):\n",
    "    query = '''\n",
    "    SELECT *\n",
    "    FROM raw\n",
    "    WHERE `Time In Seconds` >= {0} AND 'Time In Seconds' < {1}\n",
    "    '''.format(start_time, end_time)\n",
    "    \n",
    "    return execute_query(query)"
   ]
  }
 ],
 "metadata": {
  "kernelspec": {
   "display_name": "Python 3",
   "language": "python",
   "name": "python3"
  },
  "language_info": {
   "codemirror_mode": {
    "name": "ipython",
    "version": 3
   },
   "file_extension": ".py",
   "mimetype": "text/x-python",
   "name": "python",
   "nbconvert_exporter": "python",
   "pygments_lexer": "ipython3",
   "version": "3.5.2"
  }
 },
 "nbformat": 4,
 "nbformat_minor": 4
}
